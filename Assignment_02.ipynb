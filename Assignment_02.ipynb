{
  "cells": [
    {
      "cell_type": "markdown",
      "metadata": {
        "id": "bb0O0xtk1v9t"
      },
      "source": [
        "## Task 01:\n",
        "\n",
        "Print Your Name with your Father name and Date of birth using suitable escape sequence charactor\n",
        "\n"
      ]
    },
    {
      "cell_type": "code",
      "execution_count": null,
      "metadata": {
        "id": "U7LLGIkO2Ixa",
        "colab": {
          "base_uri": "https://localhost:8080/"
        },
        "outputId": "14076fff-5e4a-40b8-f772-f29b00181d4f"
      },
      "outputs": [
        {
          "output_type": "stream",
          "name": "stdout",
          "text": [
            "NAME: RAFIA KHAN \n",
            "FATHER'S NAME: ARSHAD LATIF KHAN \n",
            "DOB: 2ND NOVEMBER, 2003\n"
          ]
        }
      ],
      "source": [
        "print (\"NAME: RAFIA KHAN \\nFATHER'S NAME: ARSHAD LATIF KHAN \\nDOB: 2ND NOVEMBER, 2003\")"
      ]
    },
    {
      "cell_type": "markdown",
      "metadata": {
        "id": "TU-xwiLV2NgB"
      },
      "source": [
        "# Task 02:\n",
        "\n",
        "Write your small bio using variables and print it using print function"
      ]
    },
    {
      "cell_type": "code",
      "execution_count": null,
      "metadata": {
        "id": "Dw8w3rwl2wDB",
        "colab": {
          "base_uri": "https://localhost:8080/"
        },
        "outputId": "3307780e-480f-40cb-846b-8f6084f7548f"
      },
      "outputs": [
        {
          "output_type": "stream",
          "name": "stdout",
          "text": [
            "Hi, I'm Rafia Khan. I'm 20 years old and I'm a 3rd year student at Usman Institute Of Technology, studying Computer System Engineering.\n"
          ]
        }
      ],
      "source": [
        "# Defining variables\n",
        "\n",
        "name = \"Rafia Khan\"\n",
        "age = 20\n",
        "major = \"Computer System Engineering\"\n",
        "year = \"3rd\"\n",
        "university = \"Usman Institute Of Technology\"\n",
        "\n",
        "bio = (f\"Hi, I'm {name}. I'm {age} years old and I'm a {year} year student at \"\n",
        "       f\"{university}, studying {major}.\")\n",
        "\n",
        "print(bio)"
      ]
    },
    {
      "cell_type": "markdown",
      "metadata": {
        "id": "F2lcZuDe2ztv"
      },
      "source": [
        "# Task 03:\n",
        "\n",
        "Write a program in which use all the operators we can use in Python"
      ]
    },
    {
      "cell_type": "code",
      "execution_count": null,
      "metadata": {
        "id": "lEJhzsXh3e7K",
        "colab": {
          "base_uri": "https://localhost:8080/"
        },
        "outputId": "4c527dd1-13ff-405c-e7c6-a07817276216"
      },
      "outputs": [
        {
          "output_type": "stream",
          "name": "stdout",
          "text": [
            "Addition:\n",
            "A + B = 30\n",
            "Subtraction:\n",
            "A - B = 20\n",
            "Multiplication:\n",
            "A X B = 125\n",
            "Division:\n",
            "A / B = 5.0\n"
          ]
        }
      ],
      "source": [
        "A = 25\n",
        "B = 5\n",
        "\n",
        "# Addition\n",
        "addition = A + B\n",
        "print(\"Addition:\")\n",
        "print(\"A + B =\", addition)\n",
        "\n",
        "# Subtraction\n",
        "subtraction = A - B\n",
        "print(\"Subtraction:\")\n",
        "print(\"A - B =\", subtraction)\n",
        "\n",
        "# Multiplication\n",
        "multiplication = A * B\n",
        "print(\"Multiplication:\")\n",
        "print(\"A X B =\", multiplication)\n",
        "\n",
        "# Division\n",
        "division = A / B\n",
        "print(\"Division:\")\n",
        "print(\"A / B =\", division)"
      ]
    },
    {
      "cell_type": "markdown",
      "metadata": {
        "id": "i4N14TJU3l7n"
      },
      "source": [
        "# Task 04:\n",
        "\n",
        "\n",
        "1. Mention Marks of English , Islamiat and Maths out of 100 in 3 different variables\n",
        "\n",
        "2. Mention Variable of Total Marks and assign 300 to it\n",
        "\n",
        "3. Calculate Percentage"
      ]
    },
    {
      "cell_type": "code",
      "execution_count": null,
      "metadata": {
        "id": "nxojzvRg5PP4",
        "colab": {
          "base_uri": "https://localhost:8080/"
        },
        "outputId": "d7819034-5c88-4e30-8665-466be7cfe2d9"
      },
      "outputs": [
        {
          "output_type": "stream",
          "name": "stdout",
          "text": [
            "Percentage %= 81.66666666666667\n"
          ]
        }
      ],
      "source": [
        "# Marks\n",
        "English = 90\n",
        "Islamiat = 70\n",
        "Maths = 85\n",
        "ObtainedMarks = English + Islamiat + Maths\n",
        "TotalMarks = 300\n",
        "\n",
        "# Calculation\n",
        "Percentage = (ObtainedMarks / TotalMarks) * 100\n",
        "\n",
        "print(\"Percentage %=\", Percentage)"
      ]
    }
  ],
  "metadata": {
    "colab": {
      "provenance": []
    },
    "kernelspec": {
      "display_name": "Python 3",
      "name": "python3"
    },
    "language_info": {
      "codemirror_mode": {
        "name": "ipython",
        "version": 3
      },
      "file_extension": ".py",
      "mimetype": "text/x-python",
      "name": "python",
      "nbconvert_exporter": "python",
      "pygments_lexer": "ipython3",
      "version": "3.12.2"
    }
  },
  "nbformat": 4,
  "nbformat_minor": 0
}