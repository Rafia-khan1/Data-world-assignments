{
  "cells": [
    {
      "cell_type": "markdown",
      "metadata": {
        "id": "rQAWe2q3xknU"
      },
      "source": [
        "1) A company decided to give bonus of 5% to employee if his/her year of service is more than 5 years.\n",
        "Ask user for their salary and year of service and print the net bonus amount."
      ]
    },
    {
      "cell_type": "code",
      "execution_count": 2,
      "metadata": {
        "colab": {
          "base_uri": "https://localhost:8080/"
        },
        "id": "crQdht_sxknX",
        "outputId": "a25c5864-87fa-4c8c-af97-24f35fba6040"
      },
      "outputs": [
        {
          "output_type": "stream",
          "name": "stdout",
          "text": [
            "Enter your salary: 1500\n",
            "Enter your years of service: 4\n",
            "Sorry, you didn't qualify for a bonus.\n"
          ]
        }
      ],
      "source": [
        "sal = float(input(\"Enter your salary: \"))\n",
        "years_of_service = int(input(\"Enter your years of service: \"))\n",
        "\n",
        "if years_of_service > 5:\n",
        "    b_amount = 0.05 * sal\n",
        "    t_sal = sal + b_amount\n",
        "    print(\"Congratulations! You qualified for a bonus.\")\n",
        "    print(\"Net bonus amount: \", b_amount)\n",
        "    print(\"Total salary amount: \", t_sal)\n",
        "else:\n",
        "    print(\"Sorry, you didn't qualify for a bonus.\")\n"
      ]
    },
    {
      "cell_type": "markdown",
      "metadata": {
        "id": "wbHuvpNxxknZ"
      },
      "source": [
        "\n",
        "2) Write a program to check whether a person is eligible for voting or not. (accept age from user) if age is greater than 17 eligible otherwise not eligible"
      ]
    },
    {
      "cell_type": "code",
      "execution_count": 4,
      "metadata": {
        "colab": {
          "base_uri": "https://localhost:8080/"
        },
        "id": "d0_ARZvMxknZ",
        "outputId": "61d1a229-c003-4f14-9106-6f0826af8ce7"
      },
      "outputs": [
        {
          "output_type": "stream",
          "name": "stdout",
          "text": [
            "Enter your age: 20\n",
            "You are eligible to vote.\n"
          ]
        }
      ],
      "source": [
        "age = int(input(\"Enter your age: \"))\n",
        "\n",
        "if age > 17:\n",
        "    print(\"You are eligible to vote.\")\n",
        "else:\n",
        "    print(\"Sorry, You are not eligible to vote.\")\n"
      ]
    },
    {
      "cell_type": "markdown",
      "metadata": {
        "id": "Mx9hGf80xknZ"
      },
      "source": [
        "\n",
        "3) Write a program to check whether a number entered by user is even or odd."
      ]
    },
    {
      "cell_type": "code",
      "execution_count": 5,
      "metadata": {
        "colab": {
          "base_uri": "https://localhost:8080/"
        },
        "id": "40PSUXJhxkna",
        "outputId": "7bed9745-6e6b-405c-8697-8bc04c98f2de"
      },
      "outputs": [
        {
          "output_type": "stream",
          "name": "stdout",
          "text": [
            "Enter a number: 25\n",
            "The number entered is odd.\n"
          ]
        }
      ],
      "source": [
        "num = int(input(\"Enter a number: \"))\n",
        "\n",
        "if num % 2 == 0:\n",
        "    print(\"The number entered is even.\")\n",
        "else:\n",
        "    print(\"The number entered is odd.\")\n"
      ]
    },
    {
      "cell_type": "markdown",
      "metadata": {
        "id": "kC1OZmxjxkna"
      },
      "source": [
        "4) Write a program to check whether a number is divisible by 7 or not.\n",
        "Show Answer"
      ]
    },
    {
      "cell_type": "code",
      "execution_count": 7,
      "metadata": {
        "colab": {
          "base_uri": "https://localhost:8080/"
        },
        "id": "G2UrmEVYxkna",
        "outputId": "0ebcd387-6e24-4ee9-d4fd-244274f4e237"
      },
      "outputs": [
        {
          "output_type": "stream",
          "name": "stdout",
          "text": [
            "Enter a number: 34\n",
            "The number entered is not divisible by 7.\n"
          ]
        }
      ],
      "source": [
        "num = int(input(\"Enter a number: \"))\n",
        "\n",
        "if num % 7 == 0:\n",
        "    print(\"The number entered is divisible by 7.\")\n",
        "else:\n",
        "    print(\"The number entered is not divisible by 7.\")\n"
      ]
    },
    {
      "cell_type": "markdown",
      "metadata": {
        "id": "_H6S29o2xknb"
      },
      "source": [
        "5) Write a program to display\n",
        "\"Hello\" if a number entered by user is a multiple of five , otherwise print \"Bye\"."
      ]
    },
    {
      "cell_type": "code",
      "execution_count": 8,
      "metadata": {
        "colab": {
          "base_uri": "https://localhost:8080/"
        },
        "id": "TP0vdXTHxknb",
        "outputId": "618907f2-e753-445b-fe81-7866abb9c9ee"
      },
      "outputs": [
        {
          "output_type": "stream",
          "name": "stdout",
          "text": [
            "Enter a number: 44\n",
            "Bye\n"
          ]
        }
      ],
      "source": [
        "num = int(input(\"Enter a number: \"))\n",
        "\n",
        "if num % 5 == 0:\n",
        "    print(\"Hello\")\n",
        "else:\n",
        "    print(\"Bye\")\n"
      ]
    },
    {
      "cell_type": "markdown",
      "metadata": {
        "id": "4kpskiUWxknb"
      },
      "source": [
        "7) Write a program to display the last digit of a number.\n"
      ]
    },
    {
      "cell_type": "code",
      "execution_count": 11,
      "metadata": {
        "colab": {
          "base_uri": "https://localhost:8080/"
        },
        "id": "4cO4-p7-xknc",
        "outputId": "fc860a84-1311-4dd4-b57d-3ab1003939d7"
      },
      "outputs": [
        {
          "output_type": "stream",
          "name": "stdout",
          "text": [
            "Enter a number: 34\n",
            "The last digit of the number is: 4\n"
          ]
        }
      ],
      "source": [
        "num = int(input(\"Enter a number: \"))\n",
        "\n",
        "l_digit = num % 10\n",
        "\n",
        "print(\"The last digit of the number is:\", l_digit)"
      ]
    },
    {
      "cell_type": "markdown",
      "metadata": {
        "id": "hsq4X40jxknc"
      },
      "source": [
        "9) Take values of length and breadth of a rectangle from user and print if it is square or rectangle."
      ]
    },
    {
      "cell_type": "code",
      "execution_count": 12,
      "metadata": {
        "colab": {
          "base_uri": "https://localhost:8080/"
        },
        "id": "qacHj2xdxknc",
        "outputId": "290986cb-e237-430f-dce4-c64d5de733e3"
      },
      "outputs": [
        {
          "output_type": "stream",
          "name": "stdout",
          "text": [
            "Enter length: 5\n",
            "Enter breadth: 6\n",
            "This shape is a rectangle\n"
          ]
        }
      ],
      "source": [
        "7\n",
        "l = int(input(\"Enter length: \"))\n",
        "b = int(input(\"Enter breadth: \"))\n",
        "\n",
        "if l == b:\n",
        "    print(\"This shape is a square\")\n",
        "else:\n",
        "    print(\"This shape is a rectangle\")"
      ]
    },
    {
      "cell_type": "markdown",
      "metadata": {
        "id": "ZviEMc7qxknd"
      },
      "source": [
        "10) Take two int values from user and print greatest among them."
      ]
    },
    {
      "cell_type": "code",
      "execution_count": 13,
      "metadata": {
        "colab": {
          "base_uri": "https://localhost:8080/"
        },
        "id": "MfCvBaHTxkne",
        "outputId": "e054011c-e7cc-4683-c3a2-64fa22b52331"
      },
      "outputs": [
        {
          "output_type": "stream",
          "name": "stdout",
          "text": [
            "Enter first integer: 3\n",
            "Enter second integer: 6\n",
            "6 is greater than 3\n"
          ]
        }
      ],
      "source": [
        "n1 = int(input(\"Enter first integer: \"))\n",
        "n2 = int(input(\"Enter second integer: \"))\n",
        "\n",
        "if n1 > n2:\n",
        "    print(n1, \"is greater than\", n2)\n",
        "elif n2 > n1:\n",
        "    print(n2, \"is greater than\", n1)\n",
        "else:\n",
        "    print(\"Both integers are equal.\")"
      ]
    },
    {
      "cell_type": "markdown",
      "metadata": {
        "id": "83-PawcNxkne"
      },
      "source": [
        "11) A shop will give discount of 10% if the cost of purchased quantity is more than 1000.\n",
        "Ask user for quantity\n",
        "Suppose, one unit will cost 100.\n",
        "Judge and print total cost for user."
      ]
    },
    {
      "cell_type": "code",
      "execution_count": 14,
      "metadata": {
        "colab": {
          "base_uri": "https://localhost:8080/"
        },
        "id": "VivfaTMIxknf",
        "outputId": "dcb7924d-3028-4cc1-820e-5d40331b5e31"
      },
      "outputs": [
        {
          "output_type": "stream",
          "name": "stdout",
          "text": [
            "Enter quantity of the product: 4\n",
            "Total Amount:  400\n"
          ]
        }
      ],
      "source": [
        "q = int(input(\"Enter quantity of the product: \"))\n",
        "amount = q * 100\n",
        "\n",
        "if q > 1000:\n",
        "    print(\"You have availed a 10% discount on buying 1000+ units\")\n",
        "    print(\"Total Amount: \", amount)\n",
        "    print(\"After Discount: \", amount - (amount*0.1))\n",
        "else:\n",
        "    print(\"Total Amount: \", amount)"
      ]
    },
    {
      "cell_type": "markdown",
      "metadata": {
        "id": "5VODbUCqxknf"
      },
      "source": [
        "12) A school has following rules for grading system:\n",
        "\n",
        "a. Below 25 - F\n",
        "\n",
        "b. 25 to 45 - E\n",
        "\n",
        "c. 45 to 50 - D\n",
        "\n",
        "d. 50 to 60 - C\n",
        "\n",
        "e. 60 to 80 - B\n",
        "\n",
        "f. Above 80 - A\n",
        "\n",
        "Ask user to enter marks and print the corresponding grade."
      ]
    },
    {
      "cell_type": "code",
      "execution_count": 15,
      "metadata": {
        "colab": {
          "base_uri": "https://localhost:8080/"
        },
        "id": "jyOpllt1xkng",
        "outputId": "11884799-2936-4751-e914-ab18fcca71e2"
      },
      "outputs": [
        {
          "output_type": "stream",
          "name": "stdout",
          "text": [
            "Enter your marks: 48\n",
            "You have achieved a grade D\n"
          ]
        }
      ],
      "source": [
        "marks = float(input(\"Enter your marks: \"))\n",
        "\n",
        "if marks < 25:\n",
        "    print(\"You have achieved a grade F\")\n",
        "elif marks >= 25 and marks < 45:\n",
        "    print(\"You have achieved a grade E\")\n",
        "elif marks >= 45 and marks < 50:\n",
        "    print(\"You have achieved a grade D\")\n",
        "elif marks >= 50 and marks < 60:\n",
        "    print(\"You have achieved a grade C\")\n",
        "elif marks >= 60 and marks < 80:\n",
        "    print(\"You have achieved a grade B\")\n",
        "else:\n",
        "    print(\"You have achieved a grade A\")"
      ]
    },
    {
      "cell_type": "markdown",
      "metadata": {
        "id": "J9ketxT-xkng"
      },
      "source": [
        "14)A student will not be allowed to sit in exam if his/her attendence is less than 75%.\n",
        "\n",
        "Take following input from user\n",
        "\n",
        "Number of classes held\n",
        "\n",
        "Number of classes attended.\n",
        "\n",
        "And print\n",
        "\n",
        "percentage of class attended\n",
        "\n",
        "Is student is allowed to sit in exam or not.\n"
      ]
    },
    {
      "cell_type": "code",
      "execution_count": 16,
      "metadata": {
        "colab": {
          "base_uri": "https://localhost:8080/"
        },
        "id": "Kt-1QEXsxknh",
        "outputId": "4dbdf91a-477a-463e-d614-48a16d5b200c"
      },
      "outputs": [
        {
          "output_type": "stream",
          "name": "stdout",
          "text": [
            "Enter the number of class held: 40\n",
            "Enter the number of class attended: 30\n",
            "Your attendance is 75 %\n",
            "You are eligible to sit in the examination.\n"
          ]
        }
      ],
      "source": [
        "c_held = int(input(\"Enter the number of class held: \"))\n",
        "c_attended = int(input(\"Enter the number of class attended: \"))\n",
        "\n",
        "attendance = int((c_attended / c_held) * 100)\n",
        "print(\"Your attendance is\",attendance, \"%\")\n",
        "\n",
        "if attendance >= 75:\n",
        "    print(\"You are eligible to sit in the examination.\")\n",
        "else:\n",
        "    print(\"You are not eligible to sit in the examination.\")"
      ]
    },
    {
      "cell_type": "markdown",
      "metadata": {
        "id": "CChWzA9Fxknh"
      },
      "source": [
        "15) Modify the above question to allow student to sit if he/she has medical cause. Ask user if he/she has medical cause or not ( 'Y' or 'N' ) and print accordingly."
      ]
    },
    {
      "cell_type": "code",
      "execution_count": 17,
      "metadata": {
        "colab": {
          "base_uri": "https://localhost:8080/"
        },
        "id": "9m2LY7Zaxknh",
        "outputId": "472a76c6-c368-4c41-91c1-931a727f3baf"
      },
      "outputs": [
        {
          "output_type": "stream",
          "name": "stdout",
          "text": [
            "Enter the number of class held: 40\n",
            "Enter the number of class attended: 25\n",
            "Your attendance is 62 %\n",
            "Could you please share if there's a medical reason for your low attendance?nope\n",
            "You are not eligible to sit in the examination.\n"
          ]
        }
      ],
      "source": [
        "c_held = int(input(\"Enter the number of class held: \"))\n",
        "c_attended = int(input(\"Enter the number of class attended: \"))\n",
        "\n",
        "attendance = int((c_attended / c_held) * 100)\n",
        "print(\"Your attendance is\",attendance, \"%\")\n",
        "\n",
        "if attendance >= 75:\n",
        "    print(\"You are eligible to sit in the examination.\")\n",
        "elif attendance < 75:\n",
        "    med_cause = input(\"Could you please share if there's a medical reason for your low attendance?\")\n",
        "    if med_cause.upper() == 'Y':\n",
        "        print(\"You are eligible to sit in the examination.\")\n",
        "    else:\n",
        "        print(\"You are not eligible to sit in the examination.\")\n",
        "else:\n",
        "    print(\"You are not eligible to sit in the examination.\")"
      ]
    },
    {
      "cell_type": "markdown",
      "metadata": {
        "id": "WNMsXJ1Ixkni"
      },
      "source": [
        "16) Write a program to check if a year is leap year or not.\n",
        "\n",
        "If a year is divisible by 4 then it is leap year but if the year is century year like 2000, 1900, 2100 then it must be divisible by 400."
      ]
    },
    {
      "cell_type": "code",
      "execution_count": 19,
      "metadata": {
        "colab": {
          "base_uri": "https://localhost:8080/"
        },
        "id": "yA5NMTdxxkni",
        "outputId": "9d19b09e-37ce-4f5c-8e4d-17c6ecbb0458"
      },
      "outputs": [
        {
          "output_type": "stream",
          "name": "stdout",
          "text": [
            "Enter a year: 2003\n",
            "2003 is not a leap year.\n"
          ]
        }
      ],
      "source": [
        "y = int(input(\"Enter a year: \"))\n",
        "\n",
        "if (y % 4 == 0 and y % 100 != 0) or (y % 400 == 0):\n",
        "    print(y, \"is a leap year.\")\n",
        "else:\n",
        "    print(y, \"is not a leap year.\")\n"
      ]
    },
    {
      "cell_type": "markdown",
      "metadata": {
        "id": "WfXfUEqrxkni"
      },
      "source": [
        "17) Ask user to enter age, gender ( M or F ), marital status ( Y or N ) and then using following rules print their place of service.\n",
        "\n",
        "if employee is female, then she will work only in urban areas.\n",
        "\n",
        "if employee is a male and age is in between 20 to 40 then he may work in anywhere\n",
        "\n",
        "if employee is male and age is in between 40 t0 60 then he will work in urban areas only.\n",
        "\n",
        "And any other input of age should print \"ERROR\""
      ]
    },
    {
      "cell_type": "code",
      "execution_count": 20,
      "metadata": {
        "colab": {
          "base_uri": "https://localhost:8080/"
        },
        "id": "V3alFy5Sxkni",
        "outputId": "189dfb4c-4077-408a-9aef-199248368ec1"
      },
      "outputs": [
        {
          "output_type": "stream",
          "name": "stdout",
          "text": [
            "Enter your age: 20\n",
            "Enter your gender[For Male (M) and For Female(F)]: F\n",
            "Enter your marital status[if Married(Y) and if not Married(N)]: N\n",
            "You are allowed to work only in urban areas.\n"
          ]
        }
      ],
      "source": [
        "age = int(input(\"Enter your age: \"))\n",
        "g = input(\"Enter your gender[For Male (M) and For Female(F)]: \")\n",
        "m_status = input(\"Enter your marital status[if Married(Y) and if not Married(N)]: \")\n",
        "\n",
        "if g.upper()  == 'F':\n",
        "    print(\"You are allowed to work only in urban areas.\")\n",
        "elif g.upper()  == 'M' and age > 20 and age < 40:\n",
        "    print(\"You are allowed to work anywhere.\")\n",
        "elif g.upper()  == 'M' and age > 40 and age < 60:\n",
        "    print(\"You are allowed to work only in urban areas.\")\n",
        "else:\n",
        "    print(\"ERROR!\")\n"
      ]
    },
    {
      "cell_type": "markdown",
      "metadata": {
        "id": "bQ1XG_1exknj"
      },
      "source": [
        "6) Write a program to calculate the electricity bill (accept number of unit from user) according to the following criteria :\n",
        "     Unit                                                     Price  \n",
        "uptp 100 units                                             no charge\n",
        "Next 200 units                                              Rs 5 per unit\n",
        "After 200 units                                             Rs 10 per unit\n",
        "(For example if input unit is 350 than total bill amount is Rs.3500\n",
        "(For example if input unit is 97 than total bill amount is Rs.0\n",
        "(For example if input unit is 150 than total bill amount is Rs.750"
      ]
    },
    {
      "cell_type": "code",
      "execution_count": 21,
      "metadata": {
        "colab": {
          "base_uri": "https://localhost:8080/"
        },
        "id": "tWTqknvAxknj",
        "outputId": "e99214ea-f9a0-43bf-8c16-328464b50858"
      },
      "outputs": [
        {
          "output_type": "stream",
          "name": "stdout",
          "text": [
            "Enter the number of units you have consumed: 56\n",
            "Your Bill Amount is Rs 0\n"
          ]
        }
      ],
      "source": [
        "units = int(input(\"Enter the number of units you have consumed: \"))\n",
        "\n",
        "if units <= 100:\n",
        "    print(\"Your Bill Amount is Rs 0\")\n",
        "elif units > 100 and units < 200:\n",
        "    print(\"Your Bill Amount is Rs\", units * 5)\n",
        "elif units > 200:\n",
        "    print(\"Your Bill Amount is Rs\", units * 10)\n"
      ]
    },
    {
      "cell_type": "markdown",
      "metadata": {
        "id": "UBKYAga_xknj"
      },
      "source": [
        "13) Take input of age of 3 people by user and determine oldest and youngest among them."
      ]
    },
    {
      "cell_type": "code",
      "execution_count": 22,
      "metadata": {
        "colab": {
          "base_uri": "https://localhost:8080/"
        },
        "id": "ZfImWfRRxknk",
        "outputId": "7e478756-74e2-4bd3-9aa6-30fcf4d521cc"
      },
      "outputs": [
        {
          "output_type": "stream",
          "name": "stdout",
          "text": [
            "Enter the age of person 1: 40\n",
            "Enter the age of person 2: 10\n",
            "Enter the age of person 3: 15\n",
            "The oldest person is 40 years old.\n",
            "The youngest person is 10 years old.\n"
          ]
        }
      ],
      "source": [
        "age1 = int(input(\"Enter the age of person 1: \"))\n",
        "age2 = int(input(\"Enter the age of person 2: \"))\n",
        "age3 = int(input(\"Enter the age of person 3: \"))\n",
        "\n",
        "if age1 >= age2 and age1 >= age3:\n",
        "    o_age = age1\n",
        "elif age2 >= age1 and age2 >= age3:\n",
        "    o_age = age2\n",
        "else:\n",
        "    o_age = age3\n",
        "\n",
        "if age1 <= age2 and age1 <= age3:\n",
        "    y_age = age1\n",
        "elif age2 <= age1 and age2 <= age3:\n",
        "    y_age = age2\n",
        "else:\n",
        "    y_age = age3\n",
        "\n",
        "print(\"The oldest person is {} years old.\".format(o_age))\n",
        "print(\"The youngest person is {} years old.\".format(y_age))\n"
      ]
    }
  ],
  "metadata": {
    "kernelspec": {
      "display_name": "Python 3 (ipykernel)",
      "language": "python",
      "name": "python3"
    },
    "language_info": {
      "codemirror_mode": {
        "name": "ipython",
        "version": 3
      },
      "file_extension": ".py",
      "mimetype": "text/x-python",
      "name": "python",
      "nbconvert_exporter": "python",
      "pygments_lexer": "ipython3",
      "version": "3.12.3"
    },
    "colab": {
      "provenance": []
    }
  },
  "nbformat": 4,
  "nbformat_minor": 0
}